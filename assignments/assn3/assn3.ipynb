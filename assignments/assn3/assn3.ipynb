{
 "cells": [
  {
   "cell_type": "markdown",
   "id": "25e867b2",
   "metadata": {},
   "source": [
    "## Introductory Machine Learning: Assignment 3\n",
    "\n",
    "**Deadline:**\n",
    "\n",
    "Assignment 3 is due Thursday, October 24 at 11:59pm. Late work will not be accepted as per the course policies (see the Syllabus and Course policies on [Canvas](https://canvas.yale.edu).\n",
    "\n",
    "Directly sharing answers is not okay, but discussing problems with the course staff or with other students is encouraged.\n",
    "\n",
    "You should start early so that you have time to get help if you're stuck. The drop-in office hours schedule can be found on [Canvas](https://canvas.yale.edu).  You can also post questions or start discussions on [Ed Discussion](https://edstem.org/us/courses/9209/discussion/). The problems are broken up into steps that should help you to make steady progress.\n",
    "\n",
    "**Submission:**\n",
    "\n",
    "Submit your assignment as a .pdf on Gradescope, and as a .ipynb on Canvas. You can access Gradescope through Canvas on the left-side of the class home page. The problems in each homework assignment are numbered. \n",
    "\n",
    "Note: \n",
    "1. Please **assign each sub-question on Gradescope** correctly. This ensures all questions are visible and helps TAs grade efficiently.\n",
    "2. Double-check that **your PDF is complete and properly knitted** before submission. Please note that resubmissions after the due date will not be accepted for future assignments.\n",
    "3. For both text and mathematical answers, please use **markdown blocks** instead of code block notes. This prevents answers from being cut off and improves readability. Also, ensure you run every cell before knitting, as un-run markdown cells may have formatting issues.\n",
    "\n",
    "To produce the .pdf, please do the following in order to preserve the cell structure of the notebook:  \n",
    "1.  Go to \"File\" at the top-left of your Jupyter Notebook\n",
    "2.  Under \"Download as\", select \"HTML (.html)\"\n",
    "3.  After the .html has downloaded, open it and then select \"File\" and \"Print\" (note you will not actually be printing)\n",
    "4.  From the print window, select the option to save as a .pdf\n",
    "\n",
    "**Topics**\n",
    "1. Random forests\n",
    "2. Principal components analysis"
   ]
  },
  {
   "cell_type": "code",
   "execution_count": 2,
   "id": "05ca1c0a-c790-44bc-b000-5760dacae4f7",
   "metadata": {},
   "outputs": [],
   "source": [
    "import numpy as np\n",
    "import matplotlib.pyplot as plt\n",
    "import pandas as pd\n",
    "%matplotlib inline"
   ]
  },
  {
   "cell_type": "markdown",
   "id": "01e6505d-c7f8-4ddc-8a73-861c27e64fb0",
   "metadata": {},
   "source": [
    "# Problem 1: Identifying factors impacting global life expectancy (25 points)\n",
    "\n",
    "The Global Health Observatory (GHO) under the World Health Organization (WHO) tracks health status and related factors for all countries. Their life expectancy dataset includes variables like immunization, mortality, and economic and social factors, helping to identify key areas for improving a country’s life expectancy.\n",
    "\n",
    "<p align=\"center\"> \n",
    "  <img src=\"https://raw.githubusercontent.com/YData123/sds265-fa24/main/assignments/assn3/life_expectancy.png\" width=\"600\"> \n",
    "</p>"
   ]
  },
  {
   "cell_type": "markdown",
   "id": "bac46be1-a3f1-4c64-bc9d-a0b86afe55df",
   "metadata": {},
   "source": [
    "In this problem, we’ll leverage the power of regression decision trees and regression forests random forests to explore the factors influencing life expectancy and predict it. Are you ready to dive into the data and see how we might live longer?"
   ]
  },
  {
   "cell_type": "code",
   "execution_count": 3,
   "id": "6761e229-de46-42be-8e83-7100c362ec09",
   "metadata": {},
   "outputs": [
    {
     "data": {
      "text/html": [
       "<div>\n",
       "<style scoped>\n",
       "    .dataframe tbody tr th:only-of-type {\n",
       "        vertical-align: middle;\n",
       "    }\n",
       "\n",
       "    .dataframe tbody tr th {\n",
       "        vertical-align: top;\n",
       "    }\n",
       "\n",
       "    .dataframe thead th {\n",
       "        text-align: right;\n",
       "    }\n",
       "</style>\n",
       "<table border=\"1\" class=\"dataframe\">\n",
       "  <thead>\n",
       "    <tr style=\"text-align: right;\">\n",
       "      <th></th>\n",
       "      <th>Country</th>\n",
       "      <th>Year</th>\n",
       "      <th>Status</th>\n",
       "      <th>Life expectancy</th>\n",
       "      <th>Adult Mortality</th>\n",
       "      <th>Infant deaths</th>\n",
       "      <th>Alcohol</th>\n",
       "      <th>Percentage expenditure</th>\n",
       "      <th>Hepatitis B</th>\n",
       "      <th>Measles</th>\n",
       "      <th>BMI</th>\n",
       "      <th>Polio</th>\n",
       "      <th>Diphtheria</th>\n",
       "      <th>HIV/AIDS</th>\n",
       "      <th>GDP</th>\n",
       "      <th>Population</th>\n",
       "      <th>Income composition of resources</th>\n",
       "      <th>Schooling</th>\n",
       "    </tr>\n",
       "  </thead>\n",
       "  <tbody>\n",
       "    <tr>\n",
       "      <th>0</th>\n",
       "      <td>Afghanistan</td>\n",
       "      <td>2015</td>\n",
       "      <td>Developing</td>\n",
       "      <td>65.0</td>\n",
       "      <td>263.0</td>\n",
       "      <td>62</td>\n",
       "      <td>0.01</td>\n",
       "      <td>71.279624</td>\n",
       "      <td>65.0</td>\n",
       "      <td>1154</td>\n",
       "      <td>19.1</td>\n",
       "      <td>6.0</td>\n",
       "      <td>65.0</td>\n",
       "      <td>0.1</td>\n",
       "      <td>584.259210</td>\n",
       "      <td>33736494.0</td>\n",
       "      <td>0.479</td>\n",
       "      <td>10.1</td>\n",
       "    </tr>\n",
       "    <tr>\n",
       "      <th>1</th>\n",
       "      <td>Afghanistan</td>\n",
       "      <td>2014</td>\n",
       "      <td>Developing</td>\n",
       "      <td>59.9</td>\n",
       "      <td>271.0</td>\n",
       "      <td>64</td>\n",
       "      <td>0.01</td>\n",
       "      <td>73.523582</td>\n",
       "      <td>62.0</td>\n",
       "      <td>492</td>\n",
       "      <td>18.6</td>\n",
       "      <td>58.0</td>\n",
       "      <td>62.0</td>\n",
       "      <td>0.1</td>\n",
       "      <td>612.696514</td>\n",
       "      <td>327582.0</td>\n",
       "      <td>0.476</td>\n",
       "      <td>10.0</td>\n",
       "    </tr>\n",
       "    <tr>\n",
       "      <th>2</th>\n",
       "      <td>Afghanistan</td>\n",
       "      <td>2013</td>\n",
       "      <td>Developing</td>\n",
       "      <td>59.9</td>\n",
       "      <td>268.0</td>\n",
       "      <td>66</td>\n",
       "      <td>0.01</td>\n",
       "      <td>73.219243</td>\n",
       "      <td>64.0</td>\n",
       "      <td>430</td>\n",
       "      <td>18.1</td>\n",
       "      <td>62.0</td>\n",
       "      <td>64.0</td>\n",
       "      <td>0.1</td>\n",
       "      <td>631.744976</td>\n",
       "      <td>31731688.0</td>\n",
       "      <td>0.470</td>\n",
       "      <td>9.9</td>\n",
       "    </tr>\n",
       "    <tr>\n",
       "      <th>3</th>\n",
       "      <td>Afghanistan</td>\n",
       "      <td>2012</td>\n",
       "      <td>Developing</td>\n",
       "      <td>59.5</td>\n",
       "      <td>272.0</td>\n",
       "      <td>69</td>\n",
       "      <td>0.01</td>\n",
       "      <td>78.184215</td>\n",
       "      <td>67.0</td>\n",
       "      <td>2787</td>\n",
       "      <td>17.6</td>\n",
       "      <td>67.0</td>\n",
       "      <td>67.0</td>\n",
       "      <td>0.1</td>\n",
       "      <td>669.959000</td>\n",
       "      <td>3696958.0</td>\n",
       "      <td>0.463</td>\n",
       "      <td>9.8</td>\n",
       "    </tr>\n",
       "    <tr>\n",
       "      <th>4</th>\n",
       "      <td>Afghanistan</td>\n",
       "      <td>2011</td>\n",
       "      <td>Developing</td>\n",
       "      <td>59.2</td>\n",
       "      <td>275.0</td>\n",
       "      <td>71</td>\n",
       "      <td>0.01</td>\n",
       "      <td>7.097109</td>\n",
       "      <td>68.0</td>\n",
       "      <td>3013</td>\n",
       "      <td>17.2</td>\n",
       "      <td>68.0</td>\n",
       "      <td>68.0</td>\n",
       "      <td>0.1</td>\n",
       "      <td>63.537231</td>\n",
       "      <td>2978599.0</td>\n",
       "      <td>0.454</td>\n",
       "      <td>9.5</td>\n",
       "    </tr>\n",
       "  </tbody>\n",
       "</table>\n",
       "</div>"
      ],
      "text/plain": [
       "       Country  Year      Status  Life expectancy  Adult Mortality  \\\n",
       "0  Afghanistan  2015  Developing             65.0            263.0   \n",
       "1  Afghanistan  2014  Developing             59.9            271.0   \n",
       "2  Afghanistan  2013  Developing             59.9            268.0   \n",
       "3  Afghanistan  2012  Developing             59.5            272.0   \n",
       "4  Afghanistan  2011  Developing             59.2            275.0   \n",
       "\n",
       "   Infant deaths  Alcohol  Percentage expenditure  Hepatitis B  Measles   BMI  \\\n",
       "0             62     0.01               71.279624         65.0     1154  19.1   \n",
       "1             64     0.01               73.523582         62.0      492  18.6   \n",
       "2             66     0.01               73.219243         64.0      430  18.1   \n",
       "3             69     0.01               78.184215         67.0     2787  17.6   \n",
       "4             71     0.01                7.097109         68.0     3013  17.2   \n",
       "\n",
       "   Polio  Diphtheria  HIV/AIDS         GDP  Population  \\\n",
       "0    6.0        65.0       0.1  584.259210  33736494.0   \n",
       "1   58.0        62.0       0.1  612.696514    327582.0   \n",
       "2   62.0        64.0       0.1  631.744976  31731688.0   \n",
       "3   67.0        67.0       0.1  669.959000   3696958.0   \n",
       "4   68.0        68.0       0.1   63.537231   2978599.0   \n",
       "\n",
       "   Income composition of resources  Schooling  \n",
       "0                            0.479       10.1  \n",
       "1                            0.476       10.0  \n",
       "2                            0.470        9.9  \n",
       "3                            0.463        9.8  \n",
       "4                            0.454        9.5  "
      ]
     },
     "execution_count": 3,
     "metadata": {},
     "output_type": "execute_result"
    }
   ],
   "source": [
    "# Load the dataset. Don't change it.\n",
    "life_expectancy = pd.read_csv(\"https://raw.githubusercontent.com/YData123/sds265-fa24/main/assignments/assn3/life_expectancy_data.csv\")\n",
    "life_expectancy = life_expectancy.drop(columns = [' thinness  1-19 years', ' thinness 5-9 years', 'under-five deaths ', 'Total expenditure'])\n",
    "life_expectancy.rename(columns={'Life expectancy ': 'Life expectancy', 'Measles ': 'Measles', ' BMI ': 'BMI',\n",
    "                                'Diphtheria ': 'Diphtheria', ' HIV/AIDS': 'HIV/AIDS','infant deaths': 'Infant deaths', 'percentage expenditure': 'Percentage expenditure'}, inplace=True)\n",
    "life_expectancy = life_expectancy.dropna() \n",
    "life_expectancy.head()"
   ]
  },
  {
   "cell_type": "markdown",
   "id": "b237bc98-4c28-46ba-97c6-2e9891ba922d",
   "metadata": {},
   "source": [
    "You can find the desciption of each column as follows:\n",
    "- `Country` : Country\n",
    "- `Year` : Year\n",
    "- `Status` : Country Developed or Developing status\n",
    "- `Life expectancy` : Life expectancy in age\n",
    "- `Adult Mortality` : Adult Mortality Rates of both sexes (probability of dying between 15 and 60 years per 1000 population)\n",
    "- `Infant deaths` : Number of Infant Deaths per 1000 population\n",
    "- `Alcohol` : Alcohol, recorded per capita (15+) consumption (in litres of pure alcohol) -percentage expenditure: Expenditure on health as a percentage of Gross Domestic Product per capita(%)\n",
    "- `Percentage expenditure`: Expenditure on health as a percentage of Gross Domestic Product per capita(%)\n",
    "- `Hepatitis B` : Hepatitis B (HepB) immunization coverage among 1-year-olds (%)\n",
    "- `Measles` : Measles - number of reported cases per 1000 population\n",
    "- `BMI` : Average Body Mass Index of entire population\n",
    "- `Polio` : Polio (Pol3) immunization coverage among 1-year-olds (%)\n",
    "- `Diphtheria` : Diphtheria tetanus toxoid and pertussis (DTP3) immunization coverage among 1-year-olds (%)\n",
    "- `HIV/AIDS` : Deaths per 1000 live births HIV/AIDS (0-4 years)\n",
    "- `GDP` : Gross Domestic Product per capita (in USD)\n",
    "- `Population` : Population of the country\n",
    "- `Income composition of resources` : Human Development Index in terms of income composition of resources (index ranging from 0 to 1)\n",
    "- `Schooling` : Number of years of Schooling(years)"
   ]
  },
  {
   "cell_type": "markdown",
   "id": "5a8f0cb7-bd17-46a8-9de9-e62d5cca6fbe",
   "metadata": {},
   "source": [
    "We will focus on the numerical data. We first select the predictor variables X and the response variable 'Life expectancy'. Then we use `train_test_split` to randomly split the data into training and test sets."
   ]
  },
  {
   "cell_type": "code",
   "execution_count": null,
   "id": "82f3668f-f6b0-4b24-aaa2-df49d5fb86d6",
   "metadata": {},
   "outputs": [],
   "source": [
    "# Just run the cell.\n",
    "life_expectancy = life_expectancy.drop(columns = ['Country', 'Status'])\n",
    "\n",
    "from sklearn.model_selection import train_test_split\n",
    "y = life_expectancy['Life expectancy']\n",
    "X = life_expectancy.drop('Life expectancy', axis=1)\n",
    "X_train, X_test, y_train, y_test = train_test_split(X, y, test_size=0.4, random_state=42)"
   ]
  },
  {
   "cell_type": "markdown",
   "id": "1596c147-1ecc-4f1b-8ce3-d14a1fdc93a7",
   "metadata": {},
   "source": [
    "### 1.1 Building a simple regression tree\n",
    "\n",
    "Let's start with two of the predictor variables: `HIV/AIDS` (Deaths per 1 000 live births HIV/AIDS (0-4 years)) and `Income composition of resources` (Human Development Index in terms of income composition of resources). You will *manually* build a regression tree using these two variables step by step. "
   ]
  },
  {
   "cell_type": "markdown",
   "id": "dbb8c073-9e5d-4ac8-a341-75ab2ed29017",
   "metadata": {},
   "source": [
    "#### Problem 1.1.a (3 points)\n",
    "\n",
    "First, make two scatter plots: 'Life Expectancy' vs. 'HIV/AIDS' and 'Life Expectancy' vs. 'Income Composition of Resources'. "
   ]
  },
  {
   "cell_type": "code",
   "execution_count": null,
   "id": "6dc29887-5689-4cae-9bc5-3f4ad3db8248",
   "metadata": {},
   "outputs": [],
   "source": [
    "hiv = X_train['HIV/AIDS'].values\n",
    "income = X_train['Income composition of resources'].values\n",
    "expectancy = y_train.values\n",
    "\n",
    "### your code starts here\n"
   ]
  },
  {
   "cell_type": "markdown",
   "id": "718439dd-5c90-4bbc-aaf8-a94ff0ef5e14",
   "metadata": {},
   "source": [
    "We can plot Life Expectancy indicated by color using a colormap, and see how life expectancy depends on these two."
   ]
  },
  {
   "cell_type": "code",
   "execution_count": null,
   "id": "131b6e29-1fe1-4be0-81ba-01dc7c739af3",
   "metadata": {},
   "outputs": [],
   "source": [
    "# Just run it, no need to change.\n",
    "plt.figure(figsize=(7, 4))\n",
    "scatter = plt.scatter(hiv, income, c=expectancy, cmap='jet')\n",
    "plt.title('Life Expectancy vs. HIV/AIDS and Income Composition of Resources')\n",
    "plt.xlabel('HIV/AIDS')\n",
    "plt.ylabel('Income Composition of Resources')\n",
    "cbar = plt.colorbar(scatter)\n",
    "cbar.set_label('Life Expectancy')\n",
    "plt.xscale(\"log\")\n",
    "plt.show()"
   ]
  },
  {
   "cell_type": "markdown",
   "id": "6f0e396c-3de4-434f-97e2-1fac881954e4",
   "metadata": {},
   "source": [
    "What can you observe from these plots? How do you think this could help in building decision trees? Briefly explain your thoughts in 2-3 sentences."
   ]
  },
  {
   "cell_type": "markdown",
   "id": "24f6b98d-da5f-488c-9415-e4fd4f02dd32",
   "metadata": {},
   "source": [
    "[Your answer starts here]"
   ]
  },
  {
   "cell_type": "markdown",
   "id": "9ea6afeb-1611-45e0-a726-9eefa880a4a4",
   "metadata": {},
   "source": [
    "#### Problem 1.1.b (4 Points)"
   ]
  },
  {
   "cell_type": "markdown",
   "id": "b75fcf14-8d03-41b1-a168-4b0095735db3",
   "metadata": {},
   "source": [
    "Next, we can define a function to find the best split for a simple regression tree based on a single feature to minimize the mean squared error (MSE). This function is provided for you, and it can be helpful for a fundamental understanding of building a decision tree from scratch.\n",
    "\n",
    "- feature (np.array): The feature data used for finding the split (e.g. `hiv`).\n",
    "- target (np.array): The target data used for calculating MSE (e.g. `expectancy`).\n",
    "\n",
    "Use the `find_best_split` function provided to find the best split and the MSE using 'HIV/AIDS' and 'Income Composition of Resources'. (2 points)"
   ]
  },
  {
   "cell_type": "code",
   "execution_count": null,
   "id": "39c50f6f-d60e-4d92-aa6a-296064b4e5f3",
   "metadata": {},
   "outputs": [],
   "source": [
    "# Don't change it\n",
    "def find_best_split(feature, target):\n",
    "    sorted_ind = np.argsort(feature)\n",
    "    feature_sorted = feature[sorted_ind]\n",
    "    target_sorted = target[sorted_ind]\n",
    "\n",
    "    best_mse = float('inf')\n",
    "    best_split = None\n",
    "\n",
    "    for i in range(1, len(feature_sorted)):\n",
    "        if feature_sorted[i] == feature_sorted[i - 1]:\n",
    "            continue\n",
    "        split_val = (feature_sorted[i] + feature_sorted[i - 1]) / 2\n",
    "        left_target = target_sorted[:i]\n",
    "        right_target = target_sorted[i:]\n",
    "        left_mse = np.mean((left_target - np.mean(left_target))**2)\n",
    "        right_mse = np.mean((right_target - np.mean(right_target))**2)\n",
    "        # Compute weighted average of MSEs\n",
    "        total_mse = (left_mse * len(left_target) + right_mse * len(right_target)) / len(feature)\n",
    "        if total_mse < best_mse:\n",
    "            best_mse = total_mse\n",
    "            best_split = split_val\n",
    "    return best_split, best_mse"
   ]
  },
  {
   "cell_type": "code",
   "execution_count": null,
   "id": "dfc99ca7-d917-481f-9d97-dd18656c2917",
   "metadata": {},
   "outputs": [],
   "source": [
    "### your code starts here\n",
    "best_hiv_split, best_hiv_mse = ...\n",
    "print(f\"Best Split for HIV/AIDS: {best_hiv_split:.2f}, Best MSE: {best_hiv_mse:.2f}\")\n",
    "\n",
    "best_income_split, best_income_mse = ...\n",
    "print(f\"Best Split for Income Composition of Resources: {best_income_split:.2f}, Best MSE: {best_income_mse:.2f}\")"
   ]
  },
  {
   "cell_type": "markdown",
   "id": "02d6aef7-dead-46e6-a670-03f73e902aef",
   "metadata": {},
   "source": [
    "**Which one do you think is the best feature for the first split? Why?** (0 point)"
   ]
  },
  {
   "cell_type": "markdown",
   "id": "e0ff4a44-89a6-43f3-b4bf-d2e04d49be21",
   "metadata": {},
   "source": [
    "[Your answer starts here]"
   ]
  },
  {
   "cell_type": "code",
   "execution_count": null,
   "id": "6f6a55a3-cb48-470a-9daa-bd9b609a5065",
   "metadata": {},
   "outputs": [],
   "source": [
    "# Run this to see if your answer is correct!\n",
    "if best_hiv_mse < best_income_mse:\n",
    "    chosen_name = 'HIV/AIDS'\n",
    "    another_name = 'Income Composition of Resources'\n",
    "    chosen_split = best_hiv_split\n",
    "    chosen_feature = hiv\n",
    "    another_feature = income\n",
    "else:\n",
    "    chosen_name = 'Income Composition of Resources'\n",
    "    another_name = 'HIV/AIDS'\n",
    "    chosen_split = best_income_split\n",
    "    chosen_feature = income\n",
    "    another_feature = hiv\n",
    "\n",
    "print(f\"Best first split is on {chosen_name} at {chosen_split:.2f}\")"
   ]
  },
  {
   "cell_type": "markdown",
   "id": "1c72f388-73fb-4392-94dd-d879916bccf4",
   "metadata": {},
   "source": [
    "We’ve successfully made the first split for our regression tree! The data is now divided into two parts: the left subtree and the right subtree. To grow the tree further, we need to determine which feature to use for splitting the left and right subtrees."
   ]
  },
  {
   "cell_type": "code",
   "execution_count": null,
   "id": "255f9c71-f5b0-4db8-8626-eeb2535bcd7c",
   "metadata": {},
   "outputs": [],
   "source": [
    "# Just run it. Don't change!\n",
    "mask = chosen_feature <= chosen_split\n",
    "left_feature_chosen, left_feature, left_target = chosen_feature[mask], another_feature[mask], expectancy[mask]\n",
    "right_feature_chosen, right_feature, right_target = chosen_feature[~mask], another_feature[~mask], expectancy[~mask]\n",
    "\n",
    "left_split, left_mse = find_best_split(left_feature, left_target)\n",
    "left_split_chosen, left_mse_chosen = find_best_split(left_feature_chosen, left_target)\n",
    "right_split, right_mse = find_best_split(right_feature, right_target)\n",
    "right_split_chosen, right_mse_chosen = find_best_split(right_feature_chosen, right_target)\n",
    "\n",
    "print(f\"Left Split for {another_name}: {left_split:.2f}, Best MSE: {left_mse:.2f}\")\n",
    "print(f\"Left Split for {chosen_name}: {left_split_chosen:.2f}, Best MSE: {left_mse_chosen:.2f}\")\n",
    "print(f\"Right Split for {another_name}: {right_split:.2f}, Best MSE: {right_mse:.2f}\")\n",
    "print(f\"Right Split for {chosen_name}: {right_split_chosen:.2f}, Best MSE: {right_mse_chosen:.2f}\")"
   ]
  },
  {
   "cell_type": "markdown",
   "id": "21adb786-ad35-4b1f-9b8c-58c5989ca03f",
   "metadata": {},
   "source": [
    "**Based on the above results, find the correct feature (`left_name` and `right_name`) and split points for left subtree and right subtree (`left_split` and `right_split`).** (2 points)"
   ]
  },
  {
   "cell_type": "code",
   "execution_count": null,
   "id": "76fc9694-372e-4ebc-bf5f-1123817b6b84",
   "metadata": {},
   "outputs": [],
   "source": [
    "### your code starts here, not necessarily one line for each\n",
    "left_name = ...\n",
    "right_name = ...\n",
    "left_split = ...\n",
    "right_split = ...\n",
    "print(f\"Left Split on {left_name} at {left_split:.2f}. Right Split on {right_name} at {right_split:.2f}\")"
   ]
  },
  {
   "cell_type": "code",
   "execution_count": null,
   "id": "b3764455-d7c0-4ce5-8789-bf9fccdbe936",
   "metadata": {},
   "outputs": [],
   "source": [
    "# Run this cell to see the tree you grown!\n",
    "plt.figure(figsize=(10, 5))\n",
    "plt.scatter(chosen_feature, another_feature, c=expectancy, cmap='jet')\n",
    "plt.axvline(x=chosen_split, color='red', linestyle='--', label=f'Split at {chosen_split:.2f}')\n",
    "if left_name == chosen_name:\n",
    "    plt.axvline(x=left_split, color='blue', linestyle='--', label=f'Split at {left_split:.2f}')\n",
    "else:\n",
    "    plt.hlines(y=left_split, xmin=min(chosen_feature), xmax=chosen_split, colors='blue', linestyle='--', label=f'Split at {left_split:.2f}')\n",
    "if right_name == chosen_name:\n",
    "    plt.axvline(x=right_split, color='green', linestyle='--',  label=f'Split at {right_split:.2f}')\n",
    "else:\n",
    "    plt.hlines(y=right_split, xmin=chosen_split, xmax=max(chosen_feature), colors='green', linestyle='--',  label=f'Split at {right_split:.2f}')\n",
    "plt.colorbar(label='Life Expectancy')\n",
    "plt.xlabel(chosen_name)\n",
    "plt.ylabel(another_name)\n",
    "if chosen_name == 'HIV/AIDS':\n",
    "    plt.xscale(\"log\")\n",
    "else:\n",
    "    plt.yscale(\"log\")\n",
    "plt.legend(loc='lower left')\n",
    "plt.title('Decision Tree: Splits on HIV/AIDS and Income Composition of Resources')\n",
    "plt.show()"
   ]
  },
  {
   "cell_type": "markdown",
   "id": "2f64c354-9a6c-4403-95df-729e6a1403e9",
   "metadata": {},
   "source": [
    "### 1.2 Fitting a full regression tree (6 Points)\n",
    "\n",
    "Now build a tree that uses all the predictor variables, has a more flexible structure, and is validated with a test set. Remember that we have split the full dataset into a training set and a test set. Fit a regression tree to the training set using the function `DecisionTreeRegressor` from `sklearn.tree`. For now, use your best judgment to choose parameters for tree complexity. Plot your decision tree use `plot_tree` function."
   ]
  },
  {
   "cell_type": "code",
   "execution_count": null,
   "id": "047f12e2-05eb-484d-8f6e-7faf035346f4",
   "metadata": {},
   "outputs": [],
   "source": [
    "from sklearn import tree\n",
    "\n",
    "### Your code starts here\n",
    "# tree parameters go inside the first set of parentheses and the training data\n",
    "# goes in the second set of parentheses\n"
   ]
  },
  {
   "cell_type": "markdown",
   "id": "79300771-bfe9-4d47-9c8c-340c4dfb9053",
   "metadata": {},
   "source": [
    "What can you observe from this tree? If you set the `max_depth = 3`, is it consistant with what you find in problem 1.1b?"
   ]
  },
  {
   "cell_type": "code",
   "execution_count": null,
   "id": "26b601ca-1b2b-4504-8c63-c533a6628413",
   "metadata": {},
   "outputs": [],
   "source": [
    "dtree = tree.DecisionTreeRegressor(max_depth=3)\n",
    "dtree = dtree.fit(X_train, y_train)\n",
    "### Your code starts here. Plot again!\n"
   ]
  },
  {
   "cell_type": "markdown",
   "id": "aa2b3281-dc58-4511-b17e-6304a8d9056a",
   "metadata": {},
   "source": [
    "[Your answer starts here]"
   ]
  },
  {
   "cell_type": "markdown",
   "id": "c1977451-2370-4984-b508-d5fee3a28a69",
   "metadata": {},
   "source": [
    "### 1.3 Evaluation of your tree (4 Points)\n",
    "\n",
    "Evaluate your regression tree with the test dataset. What is the R-squared and the MSE of the model using the test set? The `.predict` method for your model can help with this."
   ]
  },
  {
   "cell_type": "code",
   "execution_count": null,
   "id": "79580b51-3994-4c3e-af22-22da2e9881fa",
   "metadata": {},
   "outputs": [],
   "source": [
    "# Making predictions on the test dataset\n",
    "### Your code starts here\n",
    "\n",
    "\n",
    "print(f\"R-squared for the test set: {r_squared:.2f}\")\n",
    "print(f'Mean Squared Error (MSE): {MSE:.2f}') "
   ]
  },
  {
   "cell_type": "markdown",
   "id": "fd9bf4e0-cf5c-421c-81e7-c9bf74628711",
   "metadata": {},
   "source": [
    "### 1.4 Let's try random forests (8 points)\n",
    "\n",
    "Finally, we will grow random forests to analyze the data,\n",
    "using the `RandomForestRegressor` function from `sklearn.ensemble`. Again, please use your best judgment to choose the initial parameters for tree complexity. \n",
    "Finish the following code to look at the \"out of bag\" (OOB) error as we increase the number of trees in the ensemble. (4 points)"
   ]
  },
  {
   "cell_type": "code",
   "execution_count": null,
   "id": "70d18d00-dc00-4c36-939e-7cae9cac0821",
   "metadata": {},
   "outputs": [],
   "source": [
    "from sklearn import ensemble\n",
    "from tqdm import tqdm\n",
    "\n",
    "oob_error = []\n",
    "num_trees = np.arange(50, 1000, 50)\n",
    "\n",
    "### Your code starts here\n",
    "# Initialize Random Forest Regressor with OOB Score enabled\n",
    "\n",
    "# Loop over the range of number of trees\n",
    "for m in tqdm(num_trees):\n",
    "    ...\n",
    "\n",
    "# Plotting the OOB error as the number of trees varies\n",
    "plt.figure(figsize=(10, 6))\n",
    "...\n",
    "plt.show()"
   ]
  },
  {
   "cell_type": "markdown",
   "id": "61320320-2fb1-4cbf-8c4c-a57efd811144",
   "metadata": {},
   "source": [
    "Visualize the variable importance of the model, which is the improvement in the loss (Gini index) due to splitting on a given variable, averaged over all of the trees in the forest. (The `.feature_importances_` method of the model may help with this.) (2 points)"
   ]
  },
  {
   "cell_type": "code",
   "execution_count": null,
   "id": "013d85cf-9788-48e1-bb61-83fec0d0525a",
   "metadata": {},
   "outputs": [],
   "source": [
    "rf.set_params(n_estimators=500)\n",
    "model = rf.fit(X_test, y_test)\n",
    "\n",
    "### Your code starts here\n",
    "fig, ax = plt.subplots(figsize=(10,5))\n",
    "...\n",
    "plt.show()"
   ]
  },
  {
   "cell_type": "markdown",
   "id": "109b80c1-cfc0-4256-bd59-5b1a3a0cf5fd",
   "metadata": {},
   "source": [
    "Answer the following questions to evaluate the performance of random forests: (2 points)\n",
    "\n",
    "1. Which variables are most important in predicting life expectancy?\n",
    "\n",
    "1. What test MSE do you obtain, and how does it compare to the test MSE of the regression tree above? "
   ]
  },
  {
   "cell_type": "code",
   "execution_count": null,
   "id": "ffe76f88-2c62-45fe-851c-5de195a8eab6",
   "metadata": {
    "scrolled": true
   },
   "outputs": [],
   "source": [
    "### Your code starts here\n",
    "\n",
    "print(f'Mean Squared Error (MSE): {MSE:.2f}') "
   ]
  },
  {
   "cell_type": "markdown",
   "id": "662c2682-d8c6-4cbf-9465-11a5a92a6b48",
   "metadata": {},
   "source": [
    "[Your answer starts here]"
   ]
  },
  {
   "cell_type": "markdown",
   "id": "0d8c7ede",
   "metadata": {
    "jp-MarkdownHeadingCollapsed": true
   },
   "source": [
    "# Problem 2: PCA: Penguin Culmen Analysis (20 points)"
   ]
  },
  {
   "cell_type": "markdown",
   "id": "43dc0d66",
   "metadata": {},
   "source": [
    "Let's revisit our flightless friends with the new tools we've learned."
   ]
  },
  {
   "cell_type": "code",
   "execution_count": null,
   "id": "e9c6a4ec",
   "metadata": {},
   "outputs": [],
   "source": [
    "# run the cell to import needed packages\n",
    "\n",
    "import pandas as pd\n",
    "import numpy as np\n",
    "from sklearn.model_selection import train_test_split\n",
    "from sklearn.linear_model import LogisticRegression\n",
    "from sklearn.preprocessing import LabelEncoder\n",
    "from sklearn.decomposition import PCA\n",
    "import matplotlib.pyplot as plt\n",
    "\n",
    "%matplotlib inline"
   ]
  },
  {
   "cell_type": "code",
   "execution_count": null,
   "id": "88e5aaf9",
   "metadata": {},
   "outputs": [],
   "source": [
    "# just run this cell to read in the data\n",
    "\n",
    "df = pd.read_csv('https://github.com/YData123/sds265-fa22/raw/master/assignments/assn2/penguins.csv')\n",
    "df = df.drop(columns=['index','year','island'])\n",
    "df = df.dropna(axis=0)\n",
    "\n",
    "# encode the labels\n",
    "species = list(set(df['species']))\n",
    "df['class'] = LabelEncoder().fit_transform(df['species'])\n",
    "sex = [int(list(df['sex'])[j]=='male') for j in range(len(df))]\n",
    "df['sex'] = sex\n",
    "df = df.drop(columns=['species'])\n",
    "\n",
    "y = np.array(df['class'])\n",
    "X = df.copy()\n",
    "X = X.drop(columns=['class'])"
   ]
  },
  {
   "cell_type": "code",
   "execution_count": null,
   "id": "cf40d68a",
   "metadata": {},
   "outputs": [],
   "source": [
    "# just run this cell to standardize\n",
    "\n",
    "for i in range(5):\n",
    "    X.iloc[:,i] = (X.iloc[:,i]-np.mean(X.iloc[:,i]))/np.std(X.iloc[:,i])\n",
    "\n",
    "print(f\"X is {X.shape[0]} rows with {X.shape[1]} columns.\")"
   ]
  },
  {
   "cell_type": "markdown",
   "id": "130ab3b9",
   "metadata": {},
   "source": [
    "### 2.1 Run PCA\n",
    "\n",
    "In the next cell, carry out Principle Component Analysis to reduce the data from 5 dimensions to 2.\n",
    "\n",
    "Let `pv1` be the first principal vector and let `pv2` be the second principal vector. Let `pcs` be the projection of the data onto the first two principal vectors."
   ]
  },
  {
   "cell_type": "code",
   "execution_count": null,
   "id": "993acf67",
   "metadata": {},
   "outputs": [],
   "source": [
    "# Your code here\n",
    "\n",
    "\n",
    "\n",
    "\n",
    "pv1 =  # your code here\n",
    "pv2 =  # your code here\n",
    "pcs =  # your code here\n",
    "\n",
    "principalX = pd.DataFrame(data = pcs, columns = ['PC1', 'PC2'])"
   ]
  },
  {
   "cell_type": "markdown",
   "id": "37e627fb",
   "metadata": {},
   "source": [
    "### 2.2 Principle Component Analysis\n",
    "\n",
    "The next cell plots the principal vectors."
   ]
  },
  {
   "cell_type": "code",
   "execution_count": null,
   "id": "9fd86893",
   "metadata": {},
   "outputs": [],
   "source": [
    "# just run this cell\n",
    "\n",
    "plt.bar(range(5), pv1)\n",
    "plt.xticks(range(5), X.columns, rotation='vertical')\n",
    "plt.show()\n",
    "\n",
    "plt.bar(range(5), pv2)\n",
    "plt.xticks(range(5), X.columns, rotation='vertical')\n",
    "plt.show()"
   ]
  },
  {
   "cell_type": "markdown",
   "id": "e3801e65",
   "metadata": {},
   "source": [
    "Are the first two principle vectors orthogonal? Write code to check and also explain conceptually.\n",
    "\n",
    "Looking at the plot, what are the first two principle components capturing, in terms of the original features we have?"
   ]
  },
  {
   "cell_type": "code",
   "execution_count": null,
   "id": "e14d061e",
   "metadata": {},
   "outputs": [],
   "source": [
    "# Your code here\n"
   ]
  },
  {
   "cell_type": "markdown",
   "id": "f6288ca4",
   "metadata": {},
   "source": [
    "[your markdown here]"
   ]
  },
  {
   "cell_type": "markdown",
   "id": "b27b16b8",
   "metadata": {},
   "source": [
    "### 2.3 Visualization"
   ]
  },
  {
   "cell_type": "code",
   "execution_count": null,
   "id": "22ec87e3",
   "metadata": {},
   "outputs": [],
   "source": [
    "# just run this cell\n",
    "\n",
    "plt.scatter(principalX.iloc[:, 0], principalX.iloc[:, 1], c = y)\n",
    "plt.show()"
   ]
  },
  {
   "cell_type": "markdown",
   "id": "ba4f90e0",
   "metadata": {},
   "source": [
    "What is being plotted in this cell above? If you are to add an xlabel and ylabel, what would you call them?\n",
    "\n",
    "Can you explain why there are pretty much 6 clusters in the plot?\n",
    "\n",
    "Recall when we plotted using two features of your choice in assignment 2. How are these different and similar?"
   ]
  },
  {
   "cell_type": "markdown",
   "id": "dc04d26c",
   "metadata": {},
   "source": [
    "[your markdoen here]"
   ]
  },
  {
   "cell_type": "markdown",
   "id": "daed83e0",
   "metadata": {},
   "source": [
    "### 2.4 Visualization with decision boundries"
   ]
  },
  {
   "cell_type": "markdown",
   "id": "51ac03cf",
   "metadata": {},
   "source": [
    "We now want to add the decision boundries to the plot. (Similar to what we did in assignment 2, but this time using the first 2 principle components as x and y.)"
   ]
  },
  {
   "cell_type": "code",
   "execution_count": null,
   "id": "a1634648",
   "metadata": {},
   "outputs": [],
   "source": [
    "# just run this cell\n",
    "# the function will again help you plot the decision boundries\n",
    "\n",
    "def plot_decision_boundaries(X, y, lr, error):\n",
    "    X2 = np.array(X)\n",
    "    b = lr.intercept_\n",
    "    beta = lr.coef_.T\n",
    "    colors = ['orange', 'pink', 'lightgreen']\n",
    "    h = 0.015\n",
    "    x_min, x_max = X2[:, 0].min() - .5, X2[:, 0].max() + .5\n",
    "    y_min, y_max = X2[:, 1].min() - .5, X2[:, 1].max() + .5\n",
    "    xx, yy = np.meshgrid(np.arange(x_min, x_max, h),\n",
    "                         np.arange(y_min, y_max, h))\n",
    "    Z = np.dot(np.c_[xx.ravel(), yy.ravel()], beta) + b\n",
    "    Z = np.argmax(Z, axis=1)\n",
    "    Z = Z.reshape(xx.shape)\n",
    "    fig = plt.figure(figsize=(8,8))\n",
    "    plt.contourf(xx, yy, Z, levels=[0,.5,1.5,2.5], colors=colors, alpha=0.5)\n",
    "    for c in range(3):\n",
    "        mask = (y==c)\n",
    "        plt.scatter(X2[np.array(mask),0], X2[np.array(mask),1], color=colors[c], label=species[c])\n",
    "\n",
    "    plt.xlim(xx.min(), xx.max())\n",
    "    plt.ylim(yy.min(), yy.max())\n",
    "    plt.legend(loc='upper left')\n",
    "    plt.title('error rate: %.2f' % error)\n",
    "    plt.xlabel(X.columns[0])\n",
    "    plt.ylabel(X.columns[1])"
   ]
  },
  {
   "cell_type": "code",
   "execution_count": null,
   "id": "ef87950a",
   "metadata": {},
   "outputs": [],
   "source": [
    "# Your code here\n"
   ]
  },
  {
   "cell_type": "markdown",
   "id": "f7bebc35",
   "metadata": {},
   "source": [
    "How do you think the model performed comparing to the models you ran in assignment 2?"
   ]
  },
  {
   "cell_type": "markdown",
   "id": "311b899c",
   "metadata": {},
   "source": [
    "[Your markdown here]"
   ]
  },
  {
   "cell_type": "markdown",
   "id": "af7c6580",
   "metadata": {},
   "source": [
    "# Problem 3: PCA Applications -- Faces and Genetics data\n",
    "\n",
    "In this problem, we will apply PCA to two applications. In the first, we will apply PCA to analyze some face image data and try to understand the variation in this data. In the second application, we will apply PCA to some genetics data and recover an interesting connection with geography!"
   ]
  },
  {
   "cell_type": "code",
   "execution_count": null,
   "id": "7a02ca19",
   "metadata": {},
   "outputs": [],
   "source": [
    "import numpy as np\n",
    "from sklearn.decomposition import PCA"
   ]
  },
  {
   "cell_type": "markdown",
   "id": "54d21c83",
   "metadata": {},
   "source": [
    "## Problem 3.1: Face image data\n",
    "\n",
    "In this problem, we will apply implementation of PCA to analyze face image data from the `olivetti_faces` dataset. The dataset consists of $64 \\times 64$ greyscale images of faces taken in a controlled setting, varying lighting, facial expressions (eyes open/closed, smiling/not smiling), and facial details (glass / no glasses). The dataset consists of 40 subjects with 10 images for each. It was collected by AT&T between 1992 and 1994.\n",
    "\n",
    "We will try to understand the variation in face (images) by performing principal component analysis!"
   ]
  },
  {
   "cell_type": "markdown",
   "id": "87c12918",
   "metadata": {},
   "source": [
    "First, we fetch the dataset and define a utility function for plotting a gallery of images."
   ]
  },
  {
   "cell_type": "code",
   "execution_count": null,
   "id": "6c13ebfb",
   "metadata": {},
   "outputs": [],
   "source": [
    "# this cell fetches the data and defines a function to plot the images\n",
    "\n",
    "import matplotlib.pyplot as plt\n",
    "from sklearn.datasets import fetch_olivetti_faces\n",
    "\n",
    "# get data\n",
    "faces, _ = fetch_olivetti_faces(return_X_y=True)\n",
    "\n",
    "n_samples, n_features = faces.shape\n",
    "image_shape = (64, 64)\n",
    "\n",
    "# define a utility function to plot a gallery of images\n",
    "def plot_gallery(title, images, n_col=3, n_row=2, cmap=plt.cm.gray):\n",
    "    fig, axs = plt.subplots(\n",
    "        nrows=n_row,\n",
    "        ncols=n_col,\n",
    "        figsize=(2.0 * n_col, 2.3 * n_row),\n",
    "        facecolor=\"white\",\n",
    "        constrained_layout=True,\n",
    "    )\n",
    "    fig.set_constrained_layout_pads(w_pad=0.01, h_pad=0.02, hspace=0, wspace=0)\n",
    "    fig.set_edgecolor(\"black\")\n",
    "    fig.suptitle(title, size=16)\n",
    "    for ax, vec in zip(axs.flat, images):\n",
    "        im = ax.imshow(\n",
    "            vec.reshape(image_shape),\n",
    "            cmap=cmap,\n",
    "            interpolation=\"nearest\",\n",
    "        )\n",
    "        ax.axis(\"off\")\n",
    "\n",
    "    fig.colorbar(im, ax=axs, orientation=\"horizontal\", shrink=0.99, aspect=40, pad=0.01)\n",
    "    plt.show()"
   ]
  },
  {
   "cell_type": "code",
   "execution_count": null,
   "id": "016b99d7",
   "metadata": {},
   "outputs": [],
   "source": [
    "# plot first 6 images in dataset\n",
    "plot_gallery(\"First 6 images\", faces[:6, :])"
   ]
  },
  {
   "cell_type": "markdown",
   "id": "89131621",
   "metadata": {},
   "source": [
    "### Problem 3.1.1: Fit PCA and visualize the top principal vectors"
   ]
  },
  {
   "cell_type": "code",
   "execution_count": null,
   "id": "44749167",
   "metadata": {},
   "outputs": [],
   "source": [
    "# fit PCA to the `faces` data. Use `n_components=None` to compute the maximal number of principal vectors\n",
    "# your code here\n",
    "pca = ..."
   ]
  },
  {
   "cell_type": "code",
   "execution_count": null,
   "id": "2975f1df",
   "metadata": {},
   "outputs": [],
   "source": [
    "# extract the principal vectors from the fitted PCA object\n",
    "face_principal_vectors = ... # your code here\n",
    "plot_gallery(\"Our EigenFaces\", face_principal_vectors)"
   ]
  },
  {
   "cell_type": "markdown",
   "id": "0c791021",
   "metadata": {},
   "source": [
    "### Problem 3.1.2: Visualize explained variance of the top $k$ principal vectors\n",
    "\n",
    "When we compute PCA, we can get the \"explained variance\" of each principal vector. In this problem, we will visualize the explained variance to better-understand the variation in the data.\n",
    "\n",
    "Recall that in `sklearn`'s implementation of PCA, the explained variance ratio of the $i$ th principal vector is given by `pca.explained_variance_ratio_[i]`. This is a number between 0 and 1. You can think of this as the percentage of the variation in the data in the direction of the $i$ th principal vector.\n",
    "\n",
    "Then, we can define the cumulative explained variance of the top $k$ principal vectors as,\n",
    "$$\\mathrm{cumulative\\_explained\\_variance\\_ratio}(k) = \\sum_{i=1}^{k} \\mathrm{explained\\_variance\\_ratio}(i).$$\n",
    "\n",
    "This quantity represents the proportion of the variation in the data which is explained by the first $k$ principal vectors. In this problem, we will plot $k$ against against $\\mathrm{explained\\_variance\\_ratio}(k)$ and $\\mathrm{cumulative\\_explained\\_variance\\_ratio}(k)$. This gives us an idea of how many directions account for most of the variation in the data.\n",
    "\n",
    "------\n",
    "**Aside**: How is the \"explained variance ratio\" obtained?\n",
    "\n",
    "Recall that PCA is computed via the eigenvectors and eigenvalues of the empirical covariance matrix. Let $S$ be the empirical covariance matrix. Then, its eigenvectors $v_i$ are the principal vectors. Denote the eigenvalue of the $i$ th eigenvector by $\\lambda_i$. In `sklearn`, the eigenvalues are accessible via `pca.explained_variance_`; $\\lambda_i$ is `pca.explained_variance_[i]`. The \"explained variance ratio\" is a ratio of each eigenvalue to the sum of the eigenvalues. That is, $\\mathrm{explained\\_variance\\_ratio}(i) = \\lambda_i / \\sum_j \\lambda_j$.\n",
    "\n",
    "The eigenvalue of a particular eigenvector of the covariance matrix will be larger when there is more variation in that direction. The \"ratio\" part of explained variance simply normalizes these eigenvalues so that they sum to 1, giving the quantity an interpretation as the proportion of the variance explained by a particular direction."
   ]
  },
  {
   "cell_type": "code",
   "execution_count": null,
   "id": "d144f91c",
   "metadata": {},
   "outputs": [],
   "source": [
    "# plot the explained variance of the top k principal components as a function of k\n",
    "\n",
    "# extract the explained variance ratio of each principal vector\n",
    "explained_variance_ratio_per_component = ... # your code here\n",
    "\n",
    "# compute cumulative explained variance ratio upto k components for each k\n",
    "cumulative_explained_variance_ratio = ... # your code here (hint: you can use np.cumsum or do the sum yourself)\n",
    "\n",
    "# plot the explained variance ratio per component and the cumulative explained variance ratio\n",
    "fig, (ax1, ax2) = plt.subplots(figsize=(10, 5), ncols=2)\n",
    "ax1.plot(explained_variance_ratio_per_component)\n",
    "ax1.set_xlabel('component');\n",
    "ax1.set_ylabel('explained variance per component');\n",
    "\n",
    "\n",
    "ax2.plot(cumulative_explained_variance_ratio)\n",
    "ax2.set_xlabel('number of principal vectors');\n",
    "ax2.set_ylabel('cumulative explained variance');"
   ]
  },
  {
   "cell_type": "markdown",
   "id": "93ec7c22",
   "metadata": {},
   "source": [
    "Comment on the curve you observe. Roughly how many principal vectors are required to explain 90\\% of the variance? What does this tell you about the underlying variation in the data?\n",
    "\n",
    "[Your markdown here]"
   ]
  },
  {
   "cell_type": "markdown",
   "id": "960d3329",
   "metadata": {},
   "source": [
    "### Problem 4.1.3: Reconstructing data from principal components\n",
    "\n",
    "In this question, we will use PCA to re-construct the face images from fewer principal components. The plots above show that most of the variance in the data is explained by the first few principal components. In this question, we will visualize this by reconstructing a face image using the first $k$ principal components, varying $k$. We will then use the face image PCA to (attempt to) reconstruct an image of an octopus.\n",
    "\n",
    "Recall that the first $k$ principal components, $v_1, \\ldots, v_k$ give an orthonormal basis for a $k$-dimensional subspace of the data. The first $k$ principal components of a point $x \\in \\mathbb{R}^d$ are given by $\\left(v_1^\\top (x - \\bar{x}), \\ldots, v_k^\\top (x - \\bar{x})\\right)$. Each principal component represents the amount of $x$ that lies in the direction of the corresponding principal vector. The principal components can then be used to reconstruct $x$ via,\n",
    "\n",
    "$$\\hat{x} = \\bar{x} + \\sum_{i=1}^k \\left(v_i^\\top (x - \\bar{x})\\right) v_i.$$\n",
    "\n",
    "This is essentially a projection onto the $k$-dimensional subspace spanned by the principal vectors $v_1, \\ldots, v_k$ (after centering by the mean).\n",
    "\n",
    "In the `sklearn` implementation of PCA, the mean vector $\\bar{x}$ is accessible via `pca.mean_` and the principal vectors are accessible by `pca.compnents_`.\n",
    "\n",
    "Implement a function `project_principal_vectors` which computes $\\hat{x}$ for a given $x$, reconstructing a point in terms of the principal vectors."
   ]
  },
  {
   "cell_type": "code",
   "execution_count": null,
   "id": "8e4f5ab0",
   "metadata": {},
   "outputs": [],
   "source": [
    "def project_principal_vectors(x, principal_vecs, mean_x, k):\n",
    "    \"\"\"\n",
    "    project a data point onto the first k principal vectors\n",
    "\n",
    "    Parameters\n",
    "    ----------\n",
    "    x : np.ndarray of shape (d,)\n",
    "        test data point\n",
    "    principal_vecs : np.ndarray of shape (min(d, n), d)\n",
    "        array of eigenvectors where eig_vecs[i] is the ith eigenvector\n",
    "    mean_x : np.ndarray of shape (d,)\n",
    "        the mean vector of the data\n",
    "    k : int\n",
    "        number of principal vectors to project onto\n",
    "\n",
    "    Returns\n",
    "    -------\n",
    "    np.ndarray of shape (d,)\n",
    "        the projection of x onto the first k principal vectors\n",
    "    \"\"\"\n",
    "\n",
    "    # center the data point\n",
    "    centered_x = ... # your code here\n",
    "\n",
    "    # compute the projection onto the first k principal components\n",
    "    projection = mean_x + sum([\n",
    "        ... # your code here\n",
    "        for i in range(k)])\n",
    "\n",
    "    return projection"
   ]
  },
  {
   "cell_type": "code",
   "execution_count": null,
   "id": "cd17a24d",
   "metadata": {},
   "outputs": [],
   "source": [
    "# extract mean vector and principal components from fitted PCA object\n",
    "face_mean_x = ... # your code here\n",
    "face_principal_vectors = ... # your code here\n",
    "\n",
    "\n",
    "face = faces[0] # consider the first image in the dataset (you can change this to any image in the dataset)\n",
    "fig, axs = plt.subplots(figsize=(20,6), ncols=9)\n",
    "\n",
    "# plot the original image\n",
    "axs[0].imshow(face.reshape(image_shape), cmap='gray')\n",
    "axs[0].set_title('original')\n",
    "\n",
    "for rotated_ax, k in zip(axs[1:], [1, 5, 10, 50, 100, 200, 300, 400]):\n",
    "    # compute the reconstruction using the first k principal components using `project_principal_vectors`\n",
    "    reconstruction = ... # your code here\n",
    "\n",
    "    # plot the reconstructed image using the first k principal components\n",
    "    rotated_ax.imshow(reconstruction.reshape(image_shape), cmap='gray')\n",
    "    rotated_ax.set_title(f'k={k}')"
   ]
  },
  {
   "cell_type": "markdown",
   "id": "30612829",
   "metadata": {},
   "source": [
    "What happens if we try to apply our PCA algorithm, which was fitted on images of faces, to an image of something that is not a face? Let's try! Below, we'll attempt to use PCA to reconstruct an image of a cute octopus."
   ]
  },
  {
   "cell_type": "code",
   "execution_count": 4,
   "id": "c8ee4394",
   "metadata": {},
   "outputs": [
    {
     "data": {
      "image/png": "[encoded data removed]",
      "text/plain": [
       "<Figure size 432x288 with 1 Axes>"
      ]
     },
     "metadata": {
      "needs_background": "light"
     },
     "output_type": "display_data"
    }
   ],
   "source": [
    "# source of image: \"https://i.pinimg.com/originals/6d/dc/5a/6ddc5a4845441a5d93583a8b2f8f562f.jpg\"\n",
    "# the cute_octopus.png file is a cropped, reshaped, and grayscale version of the image\n",
    "from PIL import Image\n",
    "import urllib\n",
    "\n",
    "url = 'https://raw.githubusercontent.com/YData123/sds265-fa24/main/assignments/assn3/cute_octopus.png'\n",
    "cute_octopus = np.array(Image.open(urllib.request.urlopen(url)))\n",
    "\n",
    "plt.imshow(cute_octopus, cmap='gray')\n",
    "cute_octopus = cute_octopus.flatten() # flatten the image into a vector"
   ]
  },
  {
   "cell_type": "code",
   "execution_count": null,
   "id": "c939fc74",
   "metadata": {},
   "outputs": [],
   "source": [
    "# extract mean vector and principal components from PCA object fitted to face data\n",
    "face_mean_x = ... # your code here\n",
    "face_principal_vectors = ... # your code here\n",
    "\n",
    "\n",
    "fig, axs = plt.subplots(figsize=(20,6), ncols=9)\n",
    "\n",
    "# plot the original image\n",
    "axs[0].imshow(cute_octopus.reshape(image_shape), cmap='gray')\n",
    "axs[0].set_title('original')\n",
    "\n",
    "for rotated_ax, k in zip(axs[1:], [1, 5, 10, 50, 100, 200, 300, 400]):\n",
    "    # compute the reconstruction using the first k principal components using `project_principal_vectors`\n",
    "    reconstruction = ... # your code here\n",
    "\n",
    "    # plot the reconstructed image using the first k principal components\n",
    "    rotated_ax.imshow(reconstruction.reshape(image_shape), cmap='gray')\n",
    "    rotated_ax.set_title(f'k={k}')"
   ]
  },
  {
   "cell_type": "markdown",
   "id": "8c2df83f",
   "metadata": {},
   "source": [
    "What do you observe about the reconstruction of the face image? How well do the reconstructed images match the original image at each $k$. What about the reconstruction of the octopus? Why do you think this is what we observe?\n",
    "\n",
    "[Your markdown here]"
   ]
  },
  {
   "cell_type": "markdown",
   "id": "2e59446c",
   "metadata": {
    "jp-MarkdownHeadingCollapsed": true
   },
   "source": [
    "## Problem 3.2: Analyzing genetics data\n",
    "\n",
    "In this sub-problem, we will PCA to analyzing genetics data. The data we will use comes from the [1000 Genomes Project](https://www.internationalgenome.org/).\n",
    "\n",
    "A single-nucleotide polymorphism is a substitution of a single nucleotide at a specific location in the genome which is present in a sufficiently large segment of the population. An ancestry-informative SNP (AISNP) is a SNP which has significant variation across global populations. There exists a line of work identifying AISNPs. In this problem, we will use 55 AISNPs identified by [Kidd et al.](https://pubmed.ncbi.nlm.nih.gov/24508742/). We have pre-processed this data for you.\n",
    "\n",
    "In this problem, you will use PCA to visualize and analyze this data."
   ]
  },
  {
   "cell_type": "code",
   "execution_count": null,
   "id": "48e32348",
   "metadata": {},
   "outputs": [],
   "source": [
    "import pandas as pd\n",
    "import seaborn as sns\n",
    "from sklearn.preprocessing import OneHotEncoder\n",
    "from sklearn.decomposition import PCA"
   ]
  },
  {
   "cell_type": "code",
   "execution_count": null,
   "id": "04256a29",
   "metadata": {},
   "outputs": [],
   "source": [
    "# read in the SNP data\n",
    "snp_data = pd.read_csv('https://raw.githubusercontent.com/YData123/sds265-fa23/main/assignments/assn3/1000genomes_snp_data.csv')\n",
    "snp_cols = [col for col in snp_data.columns if col.startswith('rs')]\n",
    "sample_attr_cols = ['pop', 'super_pop', 'gender']\n",
    "snp_data.head()"
   ]
  },
  {
   "cell_type": "code",
   "execution_count": null,
   "id": "0db3da98",
   "metadata": {},
   "outputs": [],
   "source": [
    "# one-hot encode the SNP data using sklearn's OneHotEncoder for use with PCA\n",
    "ohe = OneHotEncoder(sparse_output=False)\n",
    "X = ohe.fit_transform(snp_data[snp_cols].values)"
   ]
  },
  {
   "cell_type": "code",
   "execution_count": null,
   "id": "01b81440",
   "metadata": {},
   "outputs": [],
   "source": [
    "# fit PCA on the snp data in X; set the number of components to 2\n",
    "pca = ... # your code here\n",
    "\n",
    "# compute first two principal components of each sample in X\n",
    "snp_pcs = ... # your code here\n",
    "\n",
    "# add the principal components to the snp_data dataframe\n",
    "snp_data[['PC1', 'PC2']] = ... # your code here"
   ]
  },
  {
   "cell_type": "code",
   "execution_count": null,
   "id": "f8f786ac",
   "metadata": {},
   "outputs": [],
   "source": [
    "# plot the principal components in a scatter plot with super population color-coded\n",
    "\n",
    "fig, ax = plt.subplots(figsize=(6, 6))\n",
    "sns.scatterplot(data=snp_data, x='PC1', y='PC2', hue='super_pop', alpha=0.5, ax=ax);"
   ]
  },
  {
   "cell_type": "markdown",
   "id": "082b426c",
   "metadata": {},
   "source": [
    "Take a look at this plot and think about any trends you see. Do you see any connection with geography?\n",
    "\n",
    "Below, we will rotate this plot so that the center of the EUR and AFR samples on the PC plot lie vertically on top of each other."
   ]
  },
  {
   "cell_type": "code",
   "execution_count": null,
   "id": "e468d133",
   "metadata": {},
   "outputs": [],
   "source": [
    "# compute mean PC1 and PC2 for each super population\n",
    "mean_by_superpop = snp_data.groupby('super_pop')[['PC1', 'PC2']].mean()\n",
    "afr_pc_mean = mean_by_superpop.loc['AFR'].to_numpy()\n",
    "eur_pc_mean = mean_by_superpop.loc['EUR'].to_numpy()\n",
    "\n",
    "# compute angle between center of AFR and EUR clusters\n",
    "angle = np.arctan2(eur_pc_mean[1] - afr_pc_mean[1], eur_pc_mean[0] - afr_pc_mean[0])\n",
    "print(f'angle between AFR and EUR principal components: {angle:.2f} radians')"
   ]
  },
  {
   "cell_type": "code",
   "execution_count": null,
   "id": "bbd7c28f",
   "metadata": {},
   "outputs": [],
   "source": [
    "def create_rotation_mat(angle):\n",
    "    '''creates 2D rotation matrix for given angle'''\n",
    "    c, s = np.cos(angle), np.sin(angle)\n",
    "    rotation_matrix = np.array(((c, -s), (s, c)))\n",
    "    return rotation_matrix\n",
    "\n",
    "# rotate the principal components by the angle between the AFR and EUR clusters\n",
    "rotation_mat = create_rotation_mat(angle - np.pi/2)\n",
    "rotated_pcs = snp_data[['PC1', 'PC2']].to_numpy() @ rotation_mat\n",
    "\n",
    "# create lines denoting the principal components in the rotated axes\n",
    "pc1_line = [(pc1, 0) for pc1 in ax.get_xlim()]\n",
    "pc2_line = [(0, pc2) for pc2 in ax.get_ylim()]\n",
    "pc1_line_rotated = pc1_line @ rotation_mat\n",
    "pc2_line_rotated = pc2_line @ rotation_mat"
   ]
  },
  {
   "cell_type": "code",
   "execution_count": null,
   "id": "efa39a39",
   "metadata": {},
   "outputs": [],
   "source": [
    "# plot rotated principal components\n",
    "fig, ax = plt.subplots(figsize=(6, 6))\n",
    "sns.scatterplot(x=rotated_pcs[:, 0], y=rotated_pcs[:, 1], hue=snp_data['super_pop'], alpha=0.5);\n",
    "ax.plot(pc1_line_rotated[:,0], pc1_line_rotated[:,1], color='black', linestyle='--', label='PC1');\n",
    "ax.plot(pc2_line_rotated[:,0], pc2_line_rotated[:,1], color='black', linestyle='--', label='PC2');"
   ]
  },
  {
   "cell_type": "markdown",
   "id": "048bcd5b",
   "metadata": {},
   "source": [
    "For reference, below is a cartogram of the global population from wikipedia. It shows a map of the world with land area scaled according to population.\n",
    "\n",
    "\n",
    "<img src=\"https://upload.wikimedia.org/wikipedia/commons/9/90/Global_population_cartogram.png\" width=1000px/>"
   ]
  },
  {
   "cell_type": "markdown",
   "id": "525f2690",
   "metadata": {},
   "source": [
    "Comment on any patterns you observe. Are \"super populations\" which are geographically closer also closer in terms of their first two principal components? Can you suggest any explanations for the patterns you observe?"
   ]
  },
  {
   "cell_type": "markdown",
   "id": "86202504",
   "metadata": {},
   "source": [
    "[Your markdown here]"
   ]
  }
 ],
 "metadata": {
  "kernelspec": {
   "display_name": "Python 3 (ipykernel)",
   "language": "python",
   "name": "python3"
  },
  "language_info": {
   "codemirror_mode": {
    "name": "ipython",
    "version": 3
   },
   "file_extension": ".py",
   "mimetype": "text/x-python",
   "name": "python",
   "nbconvert_exporter": "python",
   "pygments_lexer": "ipython3",
   "version": "3.8.8"
  }
 },
 "nbformat": 4,
 "nbformat_minor": 5
}
