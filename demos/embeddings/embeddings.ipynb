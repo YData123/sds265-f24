{
 "cells": [
  {
   "cell_type": "markdown",
   "metadata": {},
   "source": [
    "# Word embeddings\n",
    "\n",
    "<br>\n",
    "\n",
    "Word embeddings represent categorical data like words as vectors in a high dimensional space. \n",
    "These are constructed by machine learning methods that use co-occurrence statistics, expressed in terms of simple language models. Embeddings reveal surprising semantic relations encoded in linear relationships. They require very large corpora of text or other co-occurrence data to construct good embeddings. \n",
    "\n",
    "Embeddings are trained \"end-to-end\" as part of LLMs. However, working with embeddings separately can give intuition of how they can be used in the Transformer attention mechanism. The Transformer takes embeddings as input in the first layer, and then uses the embeddings to predict tokens as the output. In between, the embeddings are transformed into internal encodings by a combination of attention and mapping with an MLP.\n",
    "\n",
    "In this notebook we illustrate some of the basics of word embeddings, using embeddings constructed on large amounts of text extracted from [Wikipedia](https://en.wikipedia.org/wiki/Main_Page). There are several tutorials on the web for this material; one is [here](https://medium.com/swlh/playing-with-word-vectors-308ab2faa519).\n"
   ]
  },
  {
   "cell_type": "code",
   "execution_count": 37,
   "metadata": {},
   "outputs": [],
   "source": [
    "import numpy as np\n",
    "import gensim\n",
    "import matplotlib.pyplot as plt\n",
    "plt.style.use('fivethirtyeight')"
   ]
  },
  {
   "cell_type": "markdown",
   "metadata": {},
   "source": [
    "The following bit of code reads in 100-dimensional embedding vectors, trained on a collection of Wikipedia data. Specifically, it uses 6 billion tokens of Wikipedia, with a 400,000 word vocabulary. You can find other precompiled embeddings [here](https://github.com/RaRe-Technologies/gensim-data).\n"
   ]
  },
  {
   "cell_type": "code",
   "execution_count": 38,
   "metadata": {},
   "outputs": [],
   "source": [
    "import gensim\n",
    "import gensim.downloader as gdl\n",
    "embedding = gdl.load(\"glove-wiki-gigaword-100\")"
   ]
  },
  {
   "cell_type": "markdown",
   "metadata": {},
   "source": [
    "Let's explore these embeddings a bit. Here is the vector for 'copyright'. "
   ]
  },
  {
   "cell_type": "code",
   "execution_count": 39,
   "metadata": {},
   "outputs": [
    {
     "data": {
      "text/plain": [
       "array([ 0.28292 , -1.0518  ,  0.17169 , -0.19509 ,  1.1078  ,  0.35123 ,\n",
       "       -1.1153  , -0.7574  ,  0.43468 , -0.23271 ,  0.56626 , -0.32403 ,\n",
       "        0.20586 , -0.7068  , -0.37967 ,  0.2811  ,  0.66518 ,  0.066218,\n",
       "       -0.49656 , -0.44746 , -0.76732 , -0.69151 ,  1.0989  ,  0.68884 ,\n",
       "        1.0099  , -0.099243,  0.86778 , -0.74706 , -0.53393 , -0.98153 ,\n",
       "        0.33981 ,  0.87678 ,  0.55539 ,  0.25211 , -0.093136, -0.12268 ,\n",
       "       -0.18995 , -0.5596  ,  0.022301, -0.65089 ,  0.15131 ,  0.69039 ,\n",
       "       -0.25731 , -0.10418 ,  0.3187  , -0.92036 , -0.080776, -0.72957 ,\n",
       "       -0.062274, -0.30242 ,  1.108   ,  0.45579 , -0.24216 , -0.17086 ,\n",
       "        0.47928 , -0.38471 ,  0.55145 , -0.56831 ,  2.1103  , -0.40532 ,\n",
       "       -0.35658 ,  0.30065 , -1.1101  , -0.40778 ,  0.65017 , -0.10852 ,\n",
       "        0.97684 ,  0.30761 ,  0.043331, -0.54005 , -0.36475 ,  0.72474 ,\n",
       "        0.18027 ,  0.41623 , -0.32136 , -0.942   , -0.87021 ,  0.009036,\n",
       "       -1.6118  ,  0.085464,  0.46778 , -0.99888 ,  0.97935 ,  0.54841 ,\n",
       "       -0.51551 ,  0.32104 , -0.57828 , -0.43939 ,  0.20083 ,  0.48005 ,\n",
       "       -0.094059, -0.27191 ,  0.04519 , -0.8264  ,  0.86619 ,  0.76831 ,\n",
       "       -0.006007, -0.12633 ,  0.25886 , -0.37395 ], dtype=float32)"
      ]
     },
     "execution_count": 39,
     "metadata": {},
     "output_type": "execute_result"
    }
   ],
   "source": [
    "embedding['copyright']"
   ]
  },
  {
   "cell_type": "markdown",
   "metadata": {},
   "source": [
    "But now let's see which vectors are closest to the 'copyright' vector. This is a little more interesting!"
   ]
  },
  {
   "cell_type": "code",
   "execution_count": 40,
   "metadata": {},
   "outputs": [
    {
     "data": {
      "text/plain": [
       "[('infringement', 0.7312791347503662),\n",
       " ('copyrights', 0.6773107051849365),\n",
       " ('patent', 0.6438419818878174),\n",
       " ('patents', 0.6030457019805908),\n",
       " ('licensing', 0.602853536605835),\n",
       " ('piracy', 0.6020364165306091),\n",
       " ('copyrighted', 0.5973290205001831),\n",
       " ('rights', 0.5897216200828552),\n",
       " ('privacy', 0.5878084897994995),\n",
       " ('ipr', 0.5850082635879517)]"
      ]
     },
     "execution_count": 40,
     "metadata": {},
     "output_type": "execute_result"
    }
   ],
   "source": [
    "embedding.most_similar('copyright', topn=10)"
   ]
  },
  {
   "cell_type": "markdown",
   "metadata": {},
   "source": [
    "Let's see how the similarity is computed. The vectors are normalized and then the inner product is taken. This computes the cosine of the angle between the vectors in the high-dimensional embedding space."
   ]
  },
  {
   "cell_type": "code",
   "execution_count": 41,
   "metadata": {},
   "outputs": [
    {
     "data": {
      "text/plain": [
       "0.73127913"
      ]
     },
     "execution_count": 41,
     "metadata": {},
     "output_type": "execute_result"
    }
   ],
   "source": [
    "word1 = 'copyright'\n",
    "word2 = 'infringement'\n",
    "\n",
    "u = embedding[word1]\n",
    "v = embedding[word2]\n",
    "\n",
    "u = u/np.sqrt(u@u)\n",
    "v = v/np.sqrt(v@v)\n",
    "u @ v\n",
    "\n"
   ]
  },
  {
   "cell_type": "markdown",
   "metadata": {},
   "source": [
    "Now, let's look at some of the components of the embedding vectors. What do the distributions of values look like?\n",
    "We'll first pull out the vocabulary. We see lots of garbage. This is one thing that tokenization helps with."
   ]
  },
  {
   "cell_type": "code",
   "execution_count": 42,
   "metadata": {
    "scrolled": true
   },
   "outputs": [
    {
     "data": {
      "text/plain": [
       "['sumathi',\n",
       " 'radics',\n",
       " 'sources',\n",
       " '60.49',\n",
       " 'bumiputra',\n",
       " 'profilers',\n",
       " '9.3-mile',\n",
       " 'wasserburg',\n",
       " 'rottweilers',\n",
       " 'rafei',\n",
       " 'kızılcahamam',\n",
       " 'nietlispach',\n",
       " 'slaidburn',\n",
       " 'dubbed',\n",
       " 'garn',\n",
       " 'simpkins',\n",
       " 'kyustendil',\n",
       " 'nightside',\n",
       " 'sha',\n",
       " 'lollobrigida',\n",
       " 'bijlani',\n",
       " 'staat',\n",
       " 'malmborg',\n",
       " 'low-caste',\n",
       " '15:41',\n",
       " 'mittermaier',\n",
       " '.413',\n",
       " 'borama',\n",
       " 'tsiang',\n",
       " 'brayton',\n",
       " 'liupanshui',\n",
       " 'rúhíyyih',\n",
       " 'mahalaxmi',\n",
       " 'r.m.s.',\n",
       " 'hinting',\n",
       " 'beheer',\n",
       " '50-mile',\n",
       " 'richibucto',\n",
       " 'namig',\n",
       " 'bundesstraßen',\n",
       " 'dirigo',\n",
       " '4,993',\n",
       " 'luers',\n",
       " 'taxonomy',\n",
       " 'take-offs',\n",
       " 'hat-tricks',\n",
       " 'cfls',\n",
       " 'controled',\n",
       " 'loca',\n",
       " 'sneakier',\n",
       " 'r.j.',\n",
       " 'radomir',\n",
       " 'thomasi',\n",
       " 'festin',\n",
       " 'ruggiano',\n",
       " 'ocak',\n",
       " 'drakon',\n",
       " 'sterilisation',\n",
       " 'thuagsuban',\n",
       " 'ksetra',\n",
       " 'micronuclei',\n",
       " 'berar',\n",
       " 'paraparaumu',\n",
       " 'two-strokes',\n",
       " 'spoken-word',\n",
       " 'avro',\n",
       " 'balaena',\n",
       " 'quotable',\n",
       " 'yasith',\n",
       " 'djorovic',\n",
       " '25.94',\n",
       " '(202)',\n",
       " 'respite',\n",
       " 'swirled',\n",
       " 'holowesko',\n",
       " 'c&c',\n",
       " 'reynal',\n",
       " 'vagina',\n",
       " 'luceafărul',\n",
       " 'baggers',\n",
       " 'cultivated',\n",
       " 'stuer',\n",
       " 'blazkowicz',\n",
       " 'cws',\n",
       " '102.55',\n",
       " 'henceforth',\n",
       " 'zerlina',\n",
       " 'regular',\n",
       " 'hypnotism',\n",
       " 'mounds',\n",
       " 'christoper',\n",
       " '2,063',\n",
       " 'extrapolating',\n",
       " '57.12',\n",
       " 'linthouse',\n",
       " '13-foot',\n",
       " 'http://www.nyc.gov',\n",
       " 'sp&s',\n",
       " 'mid-2015',\n",
       " 'volchkova']"
      ]
     },
     "execution_count": 42,
     "metadata": {},
     "output_type": "execute_result"
    }
   ],
   "source": [
    "vocab = set([w for w in embedding.vocab])\n",
    "[w for w in vocab][0:100]"
   ]
  },
  {
   "cell_type": "code",
   "execution_count": 43,
   "metadata": {
    "scrolled": true
   },
   "outputs": [
    {
     "data": {
      "image/png": "[encoded data removed]",
      "text/plain": [
       "<Figure size 864x288 with 2 Axes>"
      ]
     },
     "metadata": {},
     "output_type": "display_data"
    }
   ],
   "source": [
    "j = 42\n",
    "x = [embedding[w][j] for w in vocab]\n",
    "\n",
    "sigma = np.std(x)\n",
    "z = [np.random.normal(scale=sigma) for w in vocab]\n",
    "\n",
    "plt.figure(figsize=(12,4))\n",
    "plt.subplot(1,2,1)\n",
    "plt.title('embedding component %d' % j)\n",
    "_ = plt.hist(x, bins=50, range=(-1.5,1.5))\n",
    "plt.subplot(1,2,2)\n",
    "_ = plt.hist(z, bins=50, range=(-1.5,1.5), color='salmon')\n",
    "plt.title('random noise')\n",
    "plt.tight_layout()\n",
    "plt.show()\n",
    "\n"
   ]
  },
  {
   "cell_type": "markdown",
   "metadata": {},
   "source": [
    "Now, let's generate a scatter plot of a few <i>pairs</i> of components. It all looks like random Gaussian noise!\n"
   ]
  },
  {
   "cell_type": "code",
   "execution_count": 44,
   "metadata": {},
   "outputs": [
    {
     "data": {
      "image/png": "[encoded data removed]",
      "text/plain": [
       "<Figure size 864x432 with 2 Axes>"
      ]
     },
     "metadata": {},
     "output_type": "display_data"
    }
   ],
   "source": [
    "(i,j) = (1, 3)\n",
    "x = np.array([[embedding[w][i], embedding[w][j]] for w in vocab])\n",
    "\n",
    "(s1, s2) = (np.std(x[:,0]), np.std(x[:,1]))\n",
    "z = np.array([[np.random.normal(scale=s1), np.random.normal(scale=s2)] for w in vocab])\n",
    "\n",
    "sample = np.random.choice(range(len(vocab)), size=50000)\n",
    "\n",
    "plt.figure(figsize=(12,6))\n",
    "plt.subplot(1,2,1)\n",
    "plt.scatter(x[sample,0], x[sample,1])\n",
    "plt.xlim(-2.5,2.5)\n",
    "plt.ylim(-2.5,2.5)\n",
    "plt.gca().set_aspect('equal')\n",
    "plt.title('components (%d, %d)' % (i,j))\n",
    "\n",
    "\n",
    "plt.subplot(1,2,2)\n",
    "plt.scatter(z[sample,0], z[sample,1], color='salmon')\n",
    "plt.xlim(-2.5,2.5)\n",
    "plt.ylim(-2.5,2.5)\n",
    "plt.gca().set_aspect('equal')\n",
    "plt.title('random noise')\n",
    "plt.tight_layout()\n",
    "plt.show()\n"
   ]
  },
  {
   "cell_type": "markdown",
   "metadata": {},
   "source": [
    "### Exploring analogies\n",
    "\n",
    "Now we'll explore how analogies are \"solved\" using the embeddings. Here is the canonical example:\n"
   ]
  },
  {
   "cell_type": "code",
   "execution_count": 45,
   "metadata": {
    "scrolled": false
   },
   "outputs": [
    {
     "data": {
      "text/plain": [
       "[('queen', 0.7698540687561035),\n",
       " ('monarch', 0.6843381524085999),\n",
       " ('throne', 0.6755736470222473)]"
      ]
     },
     "execution_count": 45,
     "metadata": {},
     "output_type": "execute_result"
    }
   ],
   "source": [
    "embedding.most_similar(positive=['king', 'woman'], negative=['man'], topn=3)"
   ]
  },
  {
   "cell_type": "code",
   "execution_count": 46,
   "metadata": {},
   "outputs": [
    {
     "data": {
      "text/plain": [
       "[('madrid', 0.8061116933822632),\n",
       " ('aires', 0.7141225934028625),\n",
       " ('buenos', 0.6974526643753052)]"
      ]
     },
     "execution_count": 46,
     "metadata": {},
     "output_type": "execute_result"
    }
   ],
   "source": [
    "embedding.most_similar(positive=['paris', 'spain'], negative=['france'], topn=3)"
   ]
  },
  {
   "cell_type": "code",
   "execution_count": 47,
   "metadata": {},
   "outputs": [
    {
     "data": {
      "text/plain": [
       "[('berlin', 0.8846380710601807),\n",
       " ('frankfurt', 0.7985544204711914),\n",
       " ('vienna', 0.76759934425354)]"
      ]
     },
     "execution_count": 47,
     "metadata": {},
     "output_type": "execute_result"
    }
   ],
   "source": [
    "embedding.most_similar(positive=['paris', 'germany'], negative=['france'], topn=3)"
   ]
  },
  {
   "cell_type": "code",
   "execution_count": 48,
   "metadata": {},
   "outputs": [
    {
     "data": {
      "text/plain": [
       "[('hardest', 0.6622092723846436),\n",
       " ('toughest', 0.6526678204536438),\n",
       " ('smartest', 0.5931004285812378)]"
      ]
     },
     "execution_count": 48,
     "metadata": {},
     "output_type": "execute_result"
    }
   ],
   "source": [
    "embedding.most_similar(positive=['easiest', 'hard'], negative=['easy'], topn=3)"
   ]
  },
  {
   "cell_type": "markdown",
   "metadata": {},
   "source": [
    "So, we see that there is a great deal of semantic information encoded in the embeddings, even though they appear to be Gaussian noise. The relations are hidden in the embedding vectors. These semantic relations are teased out and exploited by the \"Attention\" mechanism of Transformer language models."
   ]
  },
  {
   "cell_type": "code",
   "execution_count": 49,
   "metadata": {},
   "outputs": [
    {
     "data": {
      "text/plain": [
       "[('maradona', 0.5813312530517578),\n",
       " ('pele', 0.5504352450370789),\n",
       " ('cruyff', 0.5434942245483398)]"
      ]
     },
     "execution_count": 49,
     "metadata": {},
     "output_type": "execute_result"
    }
   ],
   "source": [
    "embedding.most_similar(positive=['einstein', 'soccer'], negative=['science'], topn=3)"
   ]
  }
 ],
 "metadata": {
  "kernelspec": {
   "display_name": "Python 3 (ipykernel)",
   "language": "python",
   "name": "python3"
  },
  "language_info": {
   "codemirror_mode": {
    "name": "ipython",
    "version": 3
   },
   "file_extension": ".py",
   "mimetype": "text/x-python",
   "name": "python",
   "nbconvert_exporter": "python",
   "pygments_lexer": "ipython3",
   "version": "3.8.10"
  }
 },
 "nbformat": 4,
 "nbformat_minor": 2
}
